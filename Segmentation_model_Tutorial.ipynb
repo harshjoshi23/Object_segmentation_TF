{
  "nbformat": 4,
  "nbformat_minor": 0,
  "metadata": {
    "colab": {
      "provenance": [],
      "authorship_tag": "ABX9TyPQpmgZ5YDZoqTNqK74pUl4",
      "include_colab_link": true
    },
    "kernelspec": {
      "name": "python3",
      "display_name": "Python 3"
    },
    "language_info": {
      "name": "python"
    }
  },
  "cells": [
    {
      "cell_type": "markdown",
      "metadata": {
        "id": "view-in-github",
        "colab_type": "text"
      },
      "source": [
        "<a href=\"https://colab.research.google.com/github/harshjoshi23/Object_segmentation_TF/blob/main/Segmentation_model_Tutorial.ipynb\" target=\"_parent\"><img src=\"https://colab.research.google.com/assets/colab-badge.svg\" alt=\"Open In Colab\"/></a>"
      ]
    },
    {
      "cell_type": "markdown",
      "source": [
        "Imports and all"
      ],
      "metadata": {
        "id": "y1yEyyoWGl-3"
      }
    },
    {
      "cell_type": "code",
      "execution_count": null,
      "metadata": {
        "id": "CpNCbPNZu6K8"
      },
      "outputs": [],
      "source": [
        "# !pip install segmentation-models-pytorch\n",
        "\n",
        "import segmentation_models_pytorch as smp\n",
        "from segmentation_models_pytorch.encoders import get_preprocessing_fn\n"
      ]
    },
    {
      "cell_type": "code",
      "source": [
        "import torch\n",
        "import pandas as pd\n",
        "import numpy as np\n",
        "import matplotlib.pyplot as ply\n"
      ],
      "metadata": {
        "id": "NhO1JgJEvcts"
      },
      "execution_count": null,
      "outputs": []
    },
    {
      "cell_type": "code",
      "source": [
        "# # Installations and PyPI versoning :\n",
        "# !pip install segmentation-models-pytorch\n",
        "# !pip install git+https://github.com/qubvel/segmentation_models.pytorch"
      ],
      "metadata": {
        "id": "LVn6ohALiFIf"
      },
      "execution_count": null,
      "outputs": []
    },
    {
      "cell_type": "markdown",
      "source": [
        "1. Create Segmentation model with SMP"
      ],
      "metadata": {
        "id": "t_BcrpcIFkTL"
      }
    },
    {
      "cell_type": "code",
      "source": [
        "# model = smp.Unet( means our model is unet\n",
        "#     encoder_name=\"resnet34\",        # choose encoder, e.g. mobilenet_v2 or efficientnet-b7\n",
        "#     encoder_weights=\"imagenet\",     # use `imagenet` pre-trained weights for encoder initialization\n",
        "#     in_channels=1,                  # model input channels (1 for gray-scale images, 3 for RGB, etc.)\n",
        "#     classes=3,                      # model output channels (number of classes in your dataset)\n",
        "# )"
      ],
      "metadata": {
        "id": "VWCNowQqu_nV"
      },
      "execution_count": null,
      "outputs": []
    },
    {
      "cell_type": "code",
      "source": [
        "model = smp.Unet(encoder_name = \"resnet34\", encoder_weights=\"imagenet\", in_channels=1, classes=3,)"
      ],
      "metadata": {
        "id": "7OqqjLbRvg0u"
      },
      "execution_count": null,
      "outputs": []
    },
    {
      "cell_type": "code",
      "source": [],
      "metadata": {
        "id": "9CIaBNTtvgx7"
      },
      "execution_count": null,
      "outputs": []
    },
    {
      "cell_type": "markdown",
      "source": [
        "2. **Configure data preprocessing **:\n",
        "All encoder -> pre traind weights yes\n",
        "\n",
        "Preparing ds will give higher metric and faster convergence. <br>\n",
        "**not necessary** in case you train the whole model, not only decoder."
      ],
      "metadata": {
        "id": "ZTm4ubXCGUHh"
      }
    },
    {
      "cell_type": "code",
      "source": [
        "preprocess_input = get_preprocessing_fn('resnet18', pretrained='imagenet')"
      ],
      "metadata": {
        "id": "g0j5ycXJGTqj"
      },
      "execution_count": null,
      "outputs": []
    },
    {
      "cell_type": "markdown",
      "source": [
        "Now we can train model with any framework!\n",
        "\n"
      ],
      "metadata": {
        "id": "cWGDOLgHHEfo"
      }
    },
    {
      "cell_type": "markdown",
      "source": [
        "Text cell From Github ~ <br>\n",
        "\n",
        "## Architectures\n",
        "- **Unet**\n",
        "- **Unet++**\n",
        "- **MAnet**\n",
        "- **Linknet**\n",
        "- **FPN**\n",
        "- **PSPNet**\n",
        "- **PAN**\n",
        "- **DeepLabV3**\n",
        "- **DeepLabV3+**\n",
        "\n",
        "## Encoders\n",
        "The following is a list of supported encoders in the SMP. Select the appropriate family of encoders and click to expand the table and select a specific encoder and its pre-trained weights (`encoder_name` and `encoder_weights` parameters).\n",
        "\n",
        "- **ResNet**\n",
        "- **ResNeXt**\n",
        "- **ResNeSt**\n",
        "- **Res2Ne(X)t**\n",
        "- **RegNet(x/y)**\n",
        "- **GERNet**\n",
        "- **SE-Net**\n",
        "- **SK-ResNe(X)t**\n",
        "- **DenseNet**\n",
        "- **Inception**\n",
        "- **EfficientNet**\n",
        "- **MobileNet**\n",
        "- **DPN**\n",
        "- **VGG**\n",
        "- **Mix Vision Transformer**\n",
        "- **MobileOne**\n",
        "\n",
        "*Note: `ssl`, `swsl` - semi-supervised and weakly-supervised learning on ImageNet (repo).*\n",
        "\n",
        "### Timm Encoders\n",
        "\n",
        "- Pytorch Image Models (a.k.a. timm) has many pretrained models and an interface which allows using these models as encoders in SMP. However, not all models are supported:\n",
        "  - Not all transformer models have `features_only` functionality implemented, which is required for encoders.\n",
        "  - Some models have inappropriate strides.\n",
        "- **Total number of supported encoders: 549**\n",
        "\n",
        "## Table with available encoders\n",
        "**🔁 Models API**\n",
        "- `model.encoder` - pretrained backbone to extract features of different spatial resolution\n",
        "- `model.decoder` - depends on model's architecture (Unet/Linknet/PSPNet/FPN)\n",
        "- `model.segmentation_head` - last block to produce the required number of mask channels (includes optional upsampling and activation)\n",
        "- `model.classification_head` - optional block which creates classification head on top of the encoder\n",
        "- `model.forward(x)` - sequentially pass `x` through model's encoder, decoder, and segmentation head (and classification head if specified)\n",
        "\n",
        "## Input Channels\n",
        "`input_channels` -> create models that process tensors with an arbitrary number of channels. If you use pretrained weights from ImageNet:\n",
        "- Weights of the first convolution will be reused.\n",
        "- For 1-channel case, it would be a sum of weights of the first convolution layer.\n",
        "- For other cases, channels will be populated with weights like `new_weight[:, i] = pretrained_weight[:, i % 3]` and then scaled with `new_weight * 3 / new_in_channels`.\n",
        "\n",
        "\n",
        "\n"
      ],
      "metadata": {
        "id": "5RylzbVcHPmZ"
      }
    },
    {
      "cell_type": "code",
      "source": [
        "model = smp.FPN('resnet34', in_channels=1)\n",
        "mask = model(torch.ones([1, 1, 64, 64]))"
      ],
      "metadata": {
        "id": "uj7at-ATGTl3"
      },
      "execution_count": null,
      "outputs": []
    },
    {
      "cell_type": "markdown",
      "source": [
        "## Auxiliary Classification Output\n",
        "All models support `aux_params`, default set to `None`. <br>If `aux_params` is `None`, classification auxiliary output is not created. Otherwise, the model produces both mask and label output with shape `NC`. The classification head consists of `GlobalPooling -> Dropout (optional) -> Linear -> Activation (optional)` layers, configurable by `aux_params` as follows:\n"
      ],
      "metadata": {
        "id": "s5i0bsi0RUl5"
      }
    },
    {
      "cell_type": "code",
      "source": [
        "# aux_params=dict(\n",
        "#     pooling='avg',             # one of 'avg', 'max'\n",
        "#     dropout=0.5,               # dropout ratio, default is None\n",
        "#     activation='sigmoid',      # activation function, default is None\n",
        "#     classes=4,                 # define number of output labels\n",
        "# )"
      ],
      "metadata": {
        "id": "K3GRFanxGTjV"
      },
      "execution_count": null,
      "outputs": []
    },
    {
      "cell_type": "code",
      "source": [
        "aux_params = dict(pooling='avg', dropout=0.5,activation='sigmoid', classes=4,)"
      ],
      "metadata": {
        "id": "yASUrJBCSgaG"
      },
      "execution_count": null,
      "outputs": []
    },
    {
      "cell_type": "code",
      "source": [
        "model = smp.Unet('resnet34', classes=4, aux_params=aux_params)\n",
        "# mask, label = model(x) # Error as x not defined"
      ],
      "metadata": {
        "id": "Q3BmFiVjSGP7"
      },
      "execution_count": null,
      "outputs": []
    },
    {
      "cell_type": "markdown",
      "source": [
        "I've defined `x` as a random tensor with a batch size of 1, 3 channels (e.g., RGB image), and a size of 256x256 pixels.\n",
        "\n",
        "Adjust the dimensions of `x` to match the input requirements of model.\n"
      ],
      "metadata": {
        "id": "o6UV4AE2SZAM"
      }
    },
    {
      "cell_type": "code",
      "source": [
        "import torch\n",
        "import segmentation_models_pytorch as smp\n",
        "\n",
        "# Define auxiliary parameters\n",
        "aux_params = dict(pooling='avg', dropout=0.5,activation='sigmoid', classes=4,)\n",
        "\n",
        "\n",
        "# Creating the model\n",
        "model = smp.Unet('resnet34', classes=4, aux_params=aux_params)\n",
        "\n",
        "# Define input tensor 'x' with random values\n",
        "x = torch.randn(1, 3, 256, 256)  # example input not any sense rn (batch size, channels, height, width)\n",
        "\n",
        "# Get the output\n",
        "mask, label = model(x)\n",
        "\n",
        "print(mask.shape)  # Op means (1, num_classes, height, width)\n",
        "print(label.shape)  # Op means (1, num_aux_classes)\n"
      ],
      "metadata": {
        "colab": {
          "base_uri": "https://localhost:8080/"
        },
        "id": "ZXQk-JrrR4Ga",
        "outputId": "56ae7851-3c20-443c-f41e-184bf939ac74"
      },
      "execution_count": null,
      "outputs": [
        {
          "output_type": "stream",
          "name": "stdout",
          "text": [
            "torch.Size([1, 4, 256, 256])\n",
            "torch.Size([1, 4])\n"
          ]
        }
      ]
    },
    {
      "cell_type": "markdown",
      "source": [
        "### Meaning of `mask` and `label`:\n",
        "\n",
        "- **Mask**:\n",
        "  - The mask is the output of the segmentation head of the model.\n",
        "  - It represents the segmented output, which is typically a pixel-wise classification where each pixel is assigned a class label.\n",
        "  - For example, in a medical image segmentation task, the mask might label different tissues or organs.\n",
        "\n",
        "- **Label**:\n",
        "  - The label is the output of the auxiliary classification head, if `aux_params` is provided.\n",
        "  - It gives a global classification for the entire input image, which could be used for tasks like identifying the presence of a certain condition in a medical image.\n",
        "\n",
        "### What the Model is Doing:\n",
        "- The model performs image segmentation, producing a mask that segments the input image into different classes.\n",
        "- Additionally, if auxiliary parameters are provided, it also performs a global classification, producing a label.\n",
        "\n"
      ],
      "metadata": {
        "id": "5_3FTei4hEO4"
      }
    },
    {
      "cell_type": "markdown",
      "source": [],
      "metadata": {
        "id": "fXPwMSWohEMF"
      }
    },
    {
      "cell_type": "markdown",
      "source": [
        "**Depth Param :** <br>\n",
        " specify a number of downsampling operations in encoder, so you can make your model lighter if specify smaller depth"
      ],
      "metadata": {
        "id": "jB3TiBIjTQ9Q"
      }
    },
    {
      "cell_type": "markdown",
      "source": [
        "**code with the default encoder_depth:**"
      ],
      "metadata": {
        "id": "DdC8_eW_hkGk"
      }
    },
    {
      "cell_type": "code",
      "source": [
        "# Define auxiliary parameters\n",
        "aux_params = dict(\n",
        "    pooling='avg',             # one of 'avg', 'max'\n",
        "    dropout=0.5,               # dropout ratio, default is None\n",
        "    activation='sigmoid',      # activation function, default is None\n",
        "    classes=4,                 # define number of output labels\n",
        ")\n",
        "\n",
        "# Create the model with default encoder depth\n",
        "model = smp.Unet('resnet34', classes=4, aux_params=aux_params)\n",
        "\n",
        "# Define input tensor 'x' with random values\n",
        "x = torch.randn(1, 3, 256, 256)  # example input (batch size, channels, height, width)\n",
        "\n",
        "# Get the output\n",
        "mask, label = model(x)\n",
        "\n",
        "# Print the shapes of the outputs\n",
        "print(mask.shape)  # Should be (1, num_classes, height, width)\n",
        "print(label.shape)  # Should be (1, num_aux_classes)"
      ],
      "metadata": {
        "colab": {
          "base_uri": "https://localhost:8080/"
        },
        "id": "0laVsZCzRjC2",
        "outputId": "24b4f36d-c62e-4bf7-e041-4fe9ea71e4cb"
      },
      "execution_count": null,
      "outputs": [
        {
          "output_type": "stream",
          "name": "stdout",
          "text": [
            "torch.Size([1, 4, 256, 256])\n",
            "torch.Size([1, 4])\n"
          ]
        }
      ]
    },
    {
      "cell_type": "markdown",
      "source": [
        "**Adjusting encoder_depth with proper decoder_channels:**"
      ],
      "metadata": {
        "id": "5QisNmmuh1N-"
      }
    },
    {
      "cell_type": "code",
      "source": [
        "# Define auxiliary parameters\n",
        "aux_params = dict(\n",
        "    pooling='avg',             # one of 'avg', 'max'\n",
        "    dropout=0.5,               # dropout ratio, default is None\n",
        "    activation='sigmoid',      # activation function, default is None\n",
        "    classes=4,                 # define number of output labels\n",
        ")\n",
        "\n",
        "# Define the correct decoder_channels for encoder_depth=4\n",
        "decoder_channels = [256, 128, 64, 32]\n",
        "\n",
        "# Create the model with custom encoder depth and decoder channels\n",
        "model = smp.Unet('resnet34', encoder_depth=4, decoder_channels=decoder_channels, classes=4, aux_params=aux_params)\n",
        "\n",
        "# Define input tensor 'x' with random values\n",
        "x = torch.randn(1, 3, 256, 256)  # example input (batch size, channels, height, width)\n",
        "\n",
        "# Get the output\n",
        "mask, label = model(x)\n",
        "\n",
        "# Print the shapes of the outputs\n",
        "print(mask.shape)  # Should be (1, num_classes, height, width)\n",
        "print(label.shape)  # Should be (1, num_aux_classes)"
      ],
      "metadata": {
        "colab": {
          "base_uri": "https://localhost:8080/"
        },
        "id": "rtR4Enesh0dH",
        "outputId": "c14e9562-8fb2-4bd2-823b-31ed3a3a4c2b"
      },
      "execution_count": null,
      "outputs": [
        {
          "output_type": "stream",
          "name": "stdout",
          "text": [
            "torch.Size([1, 4, 256, 256])\n",
            "torch.Size([1, 4])\n"
          ]
        }
      ]
    },
    {
      "cell_type": "markdown",
      "source": [
        "**Adjusting encoder_depth with proper decoder_channels:**\n",
        "\n",
        "- **Auxiliary Parameters (`aux_params`)**:\n",
        "  - Configures the auxiliary classification output.\n",
        "\n",
        "- **`encoder_depth=4`**:\n",
        "  - Specifies 4 blocks in the encoder.\n",
        "\n",
        "- **`decoder_channels=[256, 128, 64, 32]`**:\n",
        "  - Matches the number of blocks in the encoder, ensuring the decoder channels are correctly defined for 4 blocks.\n",
        "\n",
        "- **Input Tensor `x`**:\n",
        "  - A random tensor simulating an input image.\n",
        "\n",
        "- **Output (`mask`, `label`)**:\n",
        "  - The segmentation mask and classification label, respectively."
      ],
      "metadata": {
        "id": "pyJFOi_yhuDL"
      }
    },
    {
      "cell_type": "code",
      "source": [],
      "metadata": {
        "id": "V47gRxrsRfvl"
      },
      "execution_count": null,
      "outputs": []
    }
  ]
}